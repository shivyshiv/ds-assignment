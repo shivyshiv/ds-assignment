{
 "cells": [
  {
   "cell_type": "markdown",
   "metadata": {},
   "source": [
    "To determine the most optimal bid valuation for maximizing net revenue, we can analyze the data from given table with the goal of maximizing the expected net revenue.\n",
    "Let's say we want to maximize the net revenue when the Advertiser Payment per Win is $0.50\n",
    "\n",
    "Here are the steps and results of the analysis:\n",
    "\n",
    "1. **Calculate the Win Rate for each Bid Price:**\n",
    "   - Win Rate = Number of Wins / Total Number of Bids\n",
    "\n",
    "2. **Calculate the Net Revenue per Win for each Bid Price:**\n",
    "   - Net Revenue per Win = Advertiser Payment per Win - Bid Price\n",
    "   - let's say Advertiser Payment per Win = $0.50\n",
    "\n",
    "3. **Calculate the Expected Net Revenue for each Bid Price:**\n",
    "   - Expected Net Revenue = Win Rate * Net Revenue per Win"
   ]
  },
  {
   "cell_type": "code",
   "execution_count": 9,
   "metadata": {},
   "outputs": [
    {
     "data": {
      "text/plain": [
       "(   bid_price  win_rate  net_revenue_per_win  expected_net_revenue\n",
       " 0       0.01       0.0                 0.49                 0.000\n",
       " 1       0.10       0.3                 0.40                 0.120\n",
       " 2       0.20       0.2                 0.30                 0.060\n",
       " 3       0.40       0.3                 0.10                 0.030\n",
       " 4       0.50       0.2                 0.00                 0.000\n",
       " 5       0.75       0.3                -0.25                -0.075\n",
       " 6       1.00       0.6                -0.50                -0.300\n",
       " 7       2.00       0.7                -1.50                -1.050\n",
       " 8       5.00       0.8                -4.50                -3.600\n",
       " 9       9.00       1.0                -8.50                -8.500,\n",
       " bid_price               0.10\n",
       " win_rate                0.30\n",
       " net_revenue_per_win     0.40\n",
       " expected_net_revenue    0.12\n",
       " Name: 1, dtype: float64)"
      ]
     },
     "execution_count": 9,
     "metadata": {},
     "output_type": "execute_result"
    }
   ],
   "source": [
    "import pandas as pd\n",
    "\n",
    "# Data for Table 1\n",
    "data = {\n",
    "    'app': ['A'] * 20,\n",
    "    'bid_price': [0.01, 0.01, 0.1, 0.1, 0.2, 0.2, 0.4, 0.4, 0.5, 0.5, 0.75, 0.75, 1, 1, 2, 2, 5, 5, 9, 9],\n",
    "    'win': [0, 1, 0, 1, 0, 1, 0, 1, 0, 1, 0, 1, 0, 1, 0, 1, 0, 1, 0, 1],\n",
    "    'events': [100000, 0, 7000, 3000, 8000000, 2000000, 700000, 300000, 80000, 20000, 7000, 3000, 400, 600, 30, 70, 2, 8, 0, 1]\n",
    "}\n",
    "\n",
    "# Creating DataFrame\n",
    "df = pd.DataFrame(data)\n",
    "\n",
    "# Calculating total events (bids) and wins for each bid price\n",
    "win_rates = df.groupby('bid_price').apply(lambda x: x[x['win'] == 1]['events'].sum() / x['events'].sum()).reset_index(name='win_rate')\n",
    "\n",
    "# Assume advertiser pays $0.50 per win\n",
    "advertiser_payment_per_win = 0.50\n",
    "\n",
    "# Calculating net revenue for each bid price\n",
    "win_rates['net_revenue_per_win'] = advertiser_payment_per_win - win_rates['bid_price']\n",
    "win_rates['expected_net_revenue'] = win_rates['win_rate'] * win_rates['net_revenue_per_win']\n",
    "\n",
    "# Finding the bid price with the maximum expected net revenue\n",
    "optimal_bid = win_rates.loc[win_rates['expected_net_revenue'].idxmax()]\n",
    "\n",
    "win_rates, optimal_bid\n"
   ]
  },
  {
   "cell_type": "markdown",
   "metadata": {},
   "source": [
    "From the table above, the bid price of $0.10 has the highest expected net revenue of $0.12.\n",
    "\n",
    "### Conclusion:\n",
    "To maximize net revenue, the most optimal bid valuation we should send in our response is $0.10."
   ]
  },
  {
   "cell_type": "markdown",
   "metadata": {},
   "source": []
  }
 ],
 "metadata": {
  "kernelspec": {
   "display_name": "Python 3",
   "language": "python",
   "name": "python3"
  },
  "language_info": {
   "codemirror_mode": {
    "name": "ipython",
    "version": 3
   },
   "file_extension": ".py",
   "mimetype": "text/x-python",
   "name": "python",
   "nbconvert_exporter": "python",
   "pygments_lexer": "ipython3",
   "version": "3.10.12"
  }
 },
 "nbformat": 4,
 "nbformat_minor": 2
}
