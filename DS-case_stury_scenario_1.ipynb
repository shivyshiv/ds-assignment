{
 "cells": [
  {
   "cell_type": "code",
   "execution_count": 4,
   "metadata": {},
   "outputs": [
    {
     "name": "stderr",
     "output_type": "stream",
     "text": [
      "/usr/lib/python3/dist-packages/scipy/__init__.py:146: UserWarning: A NumPy version >=1.17.3 and <1.25.0 is required for this version of SciPy (detected version 1.25.2\n",
      "  warnings.warn(f\"A NumPy version >={np_minversion} and <{np_maxversion}\"\n"
     ]
    }
   ],
   "source": [
    "import pandas as pd\n",
    "import numpy as np  \n",
    "from sklearn.linear_model import LinearRegression  \n",
    "from sklearn import metrics"
   ]
  },
  {
   "cell_type": "code",
   "execution_count": 5,
   "metadata": {},
   "outputs": [],
   "source": [
    "df = [\n",
    "{\"app\": \"A\", \"bid_price\": 0.01, \"win\": 0, \"events\": 100000}, \n",
    "{\"app\": \"A\", \"bid_price\": 0.01, \"win\": 1, \"events\": 0}, \n",
    "{\"app\": \"A\", \"bid_price\": 0.1, \"win\": 0, \"events\": 7000}, \n",
    "{\"app\": \"A\", \"bid_price\": 0.1, \"win\": 1, \"events\": 3000}, \n",
    "{\"app\": \"A\", \"bid_price\": 0.2, \"win\": 0, \"events\": 8000000}, \n",
    "{\"app\": \"A\", \"bid_price\": 0.2, \"win\": 1, \"events\": 2000000}, \n",
    "{\"app\": \"A\", \"bid_price\": 0.4, \"win\": 0, \"events\": 700000}, \n",
    "{\"app\": \"A\", \"bid_price\": 0.4, \"win\": 1, \"events\": 300000}, \n",
    "{\"app\": \"A\", \"bid_price\": 0.5, \"win\": 0, \"events\": 80000}, \n",
    "{\"app\": \"A\", \"bid_price\": 0.5, \"win\": 1, \"events\": 20000}, \n",
    "{\"app\": \"A\", \"bid_price\": 0.75, \"win\": 0, \"events\": 7000}, \n",
    "{\"app\": \"A\", \"bid_price\": 0.75, \"win\": 1, \"events\": 3000}, \n",
    "{\"app\": \"A\", \"bid_price\": 1, \"win\": 0, \"events\": 400}, \n",
    "{\"app\": \"A\", \"bid_price\": 1, \"win\": 1, \"events\": 600}, \n",
    "{\"app\": \"A\", \"bid_price\": 2, \"win\": 0, \"events\": 30}, \n",
    "{\"app\": \"A\", \"bid_price\": 2, \"win\": 1, \"events\": 70}, \n",
    "{\"app\": \"A\", \"bid_price\": 5, \"win\": 0, \"events\": 2}, \n",
    "{\"app\": \"A\", \"bid_price\": 5, \"win\": 1, \"events\": 8}, \n",
    "{\"app\": \"A\", \"bid_price\": 9, \"win\": 0, \"events\": 0}, \n",
    "{\"app\": \"A\", \"bid_price\": 9, \"win\": 1, \"events\": 1}\n",
    "]"
   ]
  },
  {
   "cell_type": "code",
   "execution_count": 6,
   "metadata": {},
   "outputs": [],
   "source": [
    "df = pd.DataFrame(df)  \n",
    "d1 = df[df['win']==0]\n",
    "d2 = df[df['win']==1]\n",
    "\n"
   ]
  },
  {
   "cell_type": "code",
   "execution_count": 8,
   "metadata": {},
   "outputs": [
    {
     "name": "stdout",
     "output_type": "stream",
     "text": [
      "0.7480765294243028\n",
      "Intercept: 0.26123759833131854\n",
      "Coefficient: 0.09428396712483195\n",
      "Predictions for new_x: [0.26218044 0.270666   0.28009439 0.29895119 0.30837958 0.33195057\n",
      " 0.35552157 0.44980553 0.73265743 1.1097933 ]\n"
     ]
    }
   ],
   "source": [
    "result = pd.merge(d1, d2, on='bid_price', how='inner')  \n",
    "result\n",
    "result['win_rate'] = result['events_y']/(result['events_y']+result['events_x'])\n",
    "x = result['bid_price'].tolist()\n",
    "y = result['win_rate'].tolist()\n",
    "\n",
    "# Given data  \n",
    "x = np.array([0.01, 0.1, 0.2, 0.4, 0.5, 0.75, 1.0, 2.0, 5.0, 9.0]).reshape(-1, 1)  \n",
    "y = np.array([0.0, 0.3, 0.2, 0.3, 0.2, 0.3, 0.6, 0.7, 0.8, 1.0])  \n",
    "\n",
    "# Train the linear regression model  \n",
    "model = LinearRegression()\n",
    "model.fit(x, y)\n",
    "\n",
    "# Predict for new values of x  \n",
    "new_x = np.array(x)  \n",
    "predictions = model.predict(new_x)  \n",
    "r2_model = metrics.r2_score(y, predictions)\n",
    "print(r2_model)\n",
    "print(\"Intercept:\", model.intercept_)  \n",
    "print(\"Coefficient:\", model.coef_[0])\n",
    "print(\"Predictions for new_x:\", predictions)"
   ]
  },
  {
   "cell_type": "code",
   "execution_count": null,
   "metadata": {},
   "outputs": [],
   "source": []
  }
 ],
 "metadata": {
  "kernelspec": {
   "display_name": "Python 3",
   "language": "python",
   "name": "python3"
  },
  "language_info": {
   "codemirror_mode": {
    "name": "ipython",
    "version": 3
   },
   "file_extension": ".py",
   "mimetype": "text/x-python",
   "name": "python",
   "nbconvert_exporter": "python",
   "pygments_lexer": "ipython3",
   "version": "3.10.12"
  }
 },
 "nbformat": 4,
 "nbformat_minor": 2
}
